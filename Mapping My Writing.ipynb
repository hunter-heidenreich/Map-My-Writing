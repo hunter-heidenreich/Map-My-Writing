{
 "cells": [
  {
   "cell_type": "code",
   "execution_count": null,
   "metadata": {},
   "outputs": [],
   "source": [
    "%matplotlib inline\n",
    "\n",
    "import library\n",
    "import graphs\n",
    "\n",
    "import numpy as np"
   ]
  },
  {
   "cell_type": "code",
   "execution_count": null,
   "metadata": {},
   "outputs": [],
   "source": [
    "# Access the document directory\n",
    "text_dir = '/Users/hunterheidenreich/Documents/journals'\n",
    "input_files = library.get_file_list(text_dir)"
   ]
  },
  {
   "cell_type": "code",
   "execution_count": null,
   "metadata": {},
   "outputs": [],
   "source": [
    "# Get the word lists\n",
    "raw, stop, stem, lemma = library.preprocess_file_list(library.get_file_list(text_dir))"
   ]
  },
  {
   "cell_type": "code",
   "execution_count": null,
   "metadata": {},
   "outputs": [],
   "source": [
    "# Looking at word usage graphically \n",
    "counter = library.VocabUtils.aggregate_words_counts(lemma)\n",
    "word_counts_raw = list(counter.values())\n",
    "word_counts_sorted = sorted(word_counts_raw)\n",
    "\n",
    "graphs.plot_bar_graph(range(len(word_counts_raw)), word_counts_raw, \n",
    "                      x_label='Words', y_label='Counts', title='Word Frequencies (Raw)',\n",
    "                      export=True, export_name='visualizations/word_freq_bar_raw.png')\n",
    "graphs.plot_bar_graph(range(len(word_counts_sorted)), word_counts_sorted, \n",
    "                      x_label='Words', y_label='Counts', title='Word Frequencies (Sorted)',\n",
    "                      export=True, export_name='visualizations/word_freq_bar_sorted.png')"
   ]
  },
  {
   "cell_type": "code",
   "execution_count": null,
   "metadata": {},
   "outputs": [],
   "source": [
    "# Looking some basic statistics for vocab usage \n",
    "counter = library.VocabUtils.aggregate_words_counts(lemma)\n",
    "data = [[len(input_files)],\n",
    "        [library.VocabUtils.global_top_k_words(lemma, k=1)[0][0] + ' (' + str(library.VocabUtils.global_top_k_words(lemma, k=1)[0][1]) + ')'], \n",
    "        [library.VocabUtils.global_top_k_words(lemma, k=len(list(counter.keys())))[-1][0] + ' (' + str(library.VocabUtils.global_top_k_words(lemma, k=len(list(counter.keys())))[-1][1]) + ')'],\n",
    "        [len(counter.items())],\n",
    "        [np.mean(list(counter.values()))]]\n",
    "row_labels = ['Collection size: ', 'Top word: ', 'Least common: ', 'Vocab size: ', 'Average word usage count: ']\n",
    "\n",
    "graphs.plot_table(cell_data=data, row_labels=row_labels,\n",
    "                  export=True, export_name='visualizations/basic_stats_table.png')"
   ]
  },
  {
   "cell_type": "code",
   "execution_count": null,
   "metadata": {},
   "outputs": [],
   "source": [
    "# Let's look at word count over time\n",
    "raw_wc = [len(word_list) for word_list in raw]\n",
    "labels = library.get_datetimes(input_files)\n",
    "graphs.plot(labels, raw_wc, \n",
    "            x_label='Date', y_label='Word Count', title='Word Count Over Time',\n",
    "            export=True, export_name='visualizations/word_count_by_time.png')"
   ]
  },
  {
   "cell_type": "code",
   "execution_count": null,
   "metadata": {},
   "outputs": [],
   "source": []
  },
  {
   "cell_type": "code",
   "execution_count": null,
   "metadata": {},
   "outputs": [],
   "source": []
  }
 ],
 "metadata": {
  "kernelspec": {
   "display_name": "venv",
   "language": "python",
   "name": "venv"
  },
  "language_info": {
   "codemirror_mode": {
    "name": "ipython",
    "version": 3
   },
   "file_extension": ".py",
   "mimetype": "text/x-python",
   "name": "python",
   "nbconvert_exporter": "python",
   "pygments_lexer": "ipython3",
   "version": "3.6.5"
  }
 },
 "nbformat": 4,
 "nbformat_minor": 2
}
